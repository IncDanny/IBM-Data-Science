{
    "cells": [
        {
            "cell_type": "markdown",
            "metadata": {
                "id": "07aaf236-0ce3-40d5-bd6c-9a67f03d80b3"
            },
            "source": "# Description\n\nThis notebook **imports** a data set after clicking **Upload Asset to Project**  then **inserts** it into a code cell after clicking **Code Snippets - Read Data - Insert Code to Cell**"
        },
        {
            "cell_type": "code",
            "execution_count": 1,
            "metadata": {
                "id": "8a0aab2b-ccd4-472a-8a14-6683c696539f",
                "msg_id": "99646947-96bf-41d1-8aac-d8894378585c"
            },
            "outputs": [
                {
                    "data": {
                        "text/html": "<div>\n<style scoped>\n    .dataframe tbody tr th:only-of-type {\n        vertical-align: middle;\n    }\n\n    .dataframe tbody tr th {\n        vertical-align: top;\n    }\n\n    .dataframe thead th {\n        text-align: right;\n    }\n</style>\n<table border=\"1\" class=\"dataframe\">\n  <thead>\n    <tr style=\"text-align: right;\">\n      <th></th>\n      <th>Index</th>\n      <th>Customer Id</th>\n      <th>First Name</th>\n      <th>Last Name</th>\n      <th>Company</th>\n      <th>City</th>\n      <th>Country</th>\n      <th>Phone 1</th>\n      <th>Phone 2</th>\n      <th>Email</th>\n      <th>Subscription Date</th>\n      <th>Website</th>\n    </tr>\n  </thead>\n  <tbody>\n    <tr>\n      <th>0</th>\n      <td>1</td>\n      <td>DD37Cf93aecA6Dc</td>\n      <td>Sheryl</td>\n      <td>Baxter</td>\n      <td>Rasmussen Group</td>\n      <td>East Leonard</td>\n      <td>Chile</td>\n      <td>229.077.5154</td>\n      <td>397.884.0519x718</td>\n      <td>zunigavanessa@smith.info</td>\n      <td>2020-08-24</td>\n      <td>http://www.stephenson.com/</td>\n    </tr>\n    <tr>\n      <th>1</th>\n      <td>2</td>\n      <td>1Ef7b82A4CAAD10</td>\n      <td>Preston</td>\n      <td>Lozano</td>\n      <td>Vega-Gentry</td>\n      <td>East Jimmychester</td>\n      <td>Djibouti</td>\n      <td>5153435776</td>\n      <td>686-620-1820x944</td>\n      <td>vmata@colon.com</td>\n      <td>2021-04-23</td>\n      <td>http://www.hobbs.com/</td>\n    </tr>\n    <tr>\n      <th>2</th>\n      <td>3</td>\n      <td>6F94879bDAfE5a6</td>\n      <td>Roy</td>\n      <td>Berry</td>\n      <td>Murillo-Perry</td>\n      <td>Isabelborough</td>\n      <td>Antigua and Barbuda</td>\n      <td>+1-539-402-0259</td>\n      <td>(496)978-3969x58947</td>\n      <td>beckycarr@hogan.com</td>\n      <td>2020-03-25</td>\n      <td>http://www.lawrence.com/</td>\n    </tr>\n    <tr>\n      <th>3</th>\n      <td>4</td>\n      <td>5Cef8BFA16c5e3c</td>\n      <td>Linda</td>\n      <td>Olsen</td>\n      <td>Dominguez, Mcmillan and Donovan</td>\n      <td>Bensonview</td>\n      <td>Dominican Republic</td>\n      <td>001-808-617-6467x12895</td>\n      <td>+1-813-324-8756</td>\n      <td>stanleyblackwell@benson.org</td>\n      <td>2020-06-02</td>\n      <td>http://www.good-lyons.com/</td>\n    </tr>\n    <tr>\n      <th>4</th>\n      <td>5</td>\n      <td>053d585Ab6b3159</td>\n      <td>Joanna</td>\n      <td>Bender</td>\n      <td>Martin, Lang and Andrade</td>\n      <td>West Priscilla</td>\n      <td>Slovakia (Slovak Republic)</td>\n      <td>001-234-203-0635x76146</td>\n      <td>001-199-446-3860x3486</td>\n      <td>colinalvarado@miles.net</td>\n      <td>2021-04-17</td>\n      <td>https://goodwin-ingram.com/</td>\n    </tr>\n    <tr>\n      <th>5</th>\n      <td>6</td>\n      <td>2d08FB17EE273F4</td>\n      <td>Aimee</td>\n      <td>Downs</td>\n      <td>Steele Group</td>\n      <td>Chavezborough</td>\n      <td>Bosnia and Herzegovina</td>\n      <td>(283)437-3886x88321</td>\n      <td>999-728-1637</td>\n      <td>louis27@gilbert.com</td>\n      <td>2020-02-25</td>\n      <td>http://www.berger.net/</td>\n    </tr>\n    <tr>\n      <th>6</th>\n      <td>7</td>\n      <td>EA4d384DfDbBf77</td>\n      <td>Darren</td>\n      <td>Peck</td>\n      <td>Lester, Woodard and Mitchell</td>\n      <td>Lake Ana</td>\n      <td>Pitcairn Islands</td>\n      <td>(496)452-6181x3291</td>\n      <td>+1-247-266-0963x4995</td>\n      <td>tgates@cantrell.com</td>\n      <td>2021-08-24</td>\n      <td>https://www.le.com/</td>\n    </tr>\n    <tr>\n      <th>7</th>\n      <td>8</td>\n      <td>0e04AFde9f225dE</td>\n      <td>Brett</td>\n      <td>Mullen</td>\n      <td>Sanford, Davenport and Giles</td>\n      <td>Kimport</td>\n      <td>Bulgaria</td>\n      <td>001-583-352-7197x297</td>\n      <td>001-333-145-0369</td>\n      <td>asnow@colon.com</td>\n      <td>2021-04-12</td>\n      <td>https://hammond-ramsey.com/</td>\n    </tr>\n    <tr>\n      <th>8</th>\n      <td>9</td>\n      <td>C2dE4dEEc489ae0</td>\n      <td>Sheryl</td>\n      <td>Meyers</td>\n      <td>Browning-Simon</td>\n      <td>Robersonstad</td>\n      <td>Cyprus</td>\n      <td>854-138-4911x5772</td>\n      <td>+1-448-910-2276x729</td>\n      <td>mariokhan@ryan-pope.org</td>\n      <td>2020-01-13</td>\n      <td>https://www.bullock.net/</td>\n    </tr>\n    <tr>\n      <th>9</th>\n      <td>10</td>\n      <td>8C2811a503C7c5a</td>\n      <td>Michelle</td>\n      <td>Gallagher</td>\n      <td>Beck-Hendrix</td>\n      <td>Elaineberg</td>\n      <td>Timor-Leste</td>\n      <td>739.218.2516x459</td>\n      <td>001-054-401-0347x617</td>\n      <td>mdyer@escobar.net</td>\n      <td>2021-11-08</td>\n      <td>https://arias.com/</td>\n    </tr>\n  </tbody>\n</table>\n</div>",
                        "text/plain": "   Index      Customer Id First Name  Last Name  \\\n0      1  DD37Cf93aecA6Dc     Sheryl     Baxter   \n1      2  1Ef7b82A4CAAD10    Preston     Lozano   \n2      3  6F94879bDAfE5a6        Roy      Berry   \n3      4  5Cef8BFA16c5e3c      Linda      Olsen   \n4      5  053d585Ab6b3159     Joanna     Bender   \n5      6  2d08FB17EE273F4      Aimee      Downs   \n6      7  EA4d384DfDbBf77     Darren       Peck   \n7      8  0e04AFde9f225dE      Brett     Mullen   \n8      9  C2dE4dEEc489ae0     Sheryl     Meyers   \n9     10  8C2811a503C7c5a   Michelle  Gallagher   \n\n                           Company               City  \\\n0                  Rasmussen Group       East Leonard   \n1                      Vega-Gentry  East Jimmychester   \n2                    Murillo-Perry      Isabelborough   \n3  Dominguez, Mcmillan and Donovan         Bensonview   \n4         Martin, Lang and Andrade     West Priscilla   \n5                     Steele Group      Chavezborough   \n6     Lester, Woodard and Mitchell           Lake Ana   \n7     Sanford, Davenport and Giles            Kimport   \n8                   Browning-Simon       Robersonstad   \n9                     Beck-Hendrix         Elaineberg   \n\n                      Country                 Phone 1                Phone 2  \\\n0                       Chile            229.077.5154       397.884.0519x718   \n1                    Djibouti              5153435776       686-620-1820x944   \n2         Antigua and Barbuda         +1-539-402-0259    (496)978-3969x58947   \n3          Dominican Republic  001-808-617-6467x12895        +1-813-324-8756   \n4  Slovakia (Slovak Republic)  001-234-203-0635x76146  001-199-446-3860x3486   \n5      Bosnia and Herzegovina     (283)437-3886x88321           999-728-1637   \n6            Pitcairn Islands      (496)452-6181x3291   +1-247-266-0963x4995   \n7                    Bulgaria    001-583-352-7197x297       001-333-145-0369   \n8                      Cyprus       854-138-4911x5772    +1-448-910-2276x729   \n9                 Timor-Leste        739.218.2516x459   001-054-401-0347x617   \n\n                         Email Subscription Date                      Website  \n0     zunigavanessa@smith.info        2020-08-24   http://www.stephenson.com/  \n1              vmata@colon.com        2021-04-23        http://www.hobbs.com/  \n2          beckycarr@hogan.com        2020-03-25     http://www.lawrence.com/  \n3  stanleyblackwell@benson.org        2020-06-02   http://www.good-lyons.com/  \n4      colinalvarado@miles.net        2021-04-17  https://goodwin-ingram.com/  \n5          louis27@gilbert.com        2020-02-25       http://www.berger.net/  \n6          tgates@cantrell.com        2021-08-24          https://www.le.com/  \n7              asnow@colon.com        2021-04-12  https://hammond-ramsey.com/  \n8      mariokhan@ryan-pope.org        2020-01-13     https://www.bullock.net/  \n9            mdyer@escobar.net        2021-11-08           https://arias.com/  "
                    },
                    "execution_count": 1,
                    "metadata": {},
                    "output_type": "execute_result"
                }
            ],
            "source": "# The code was removed by Watson Studio for sharing."
        },
        {
            "cell_type": "code",
            "execution_count": null,
            "metadata": {
                "id": "298fb95d-b8b8-491a-a67f-8cbfafb15434"
            },
            "outputs": [],
            "source": ""
        }
    ],
    "metadata": {
        "kernelspec": {
            "display_name": "Python 3.11 with Spark",
            "language": "python3",
            "name": "python311"
        },
        "language_info": {
            "codemirror_mode": {
                "name": "ipython",
                "version": 3
            },
            "file_extension": ".py",
            "mimetype": "text/x-python",
            "name": "python",
            "nbconvert_exporter": "python",
            "pygments_lexer": "ipython3",
            "version": "3.11.9"
        }
    },
    "nbformat": 4,
    "nbformat_minor": 4
}